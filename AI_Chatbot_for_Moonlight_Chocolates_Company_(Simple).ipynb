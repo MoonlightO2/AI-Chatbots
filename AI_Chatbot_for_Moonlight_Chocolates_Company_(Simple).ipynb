{
  "nbformat": 4,
  "nbformat_minor": 0,
  "metadata": {
    "colab": {
      "provenance": [],
      "mount_file_id": "1VHXut0m2Gj1TpVrVWMlyPccb0nbTKDz3",
      "authorship_tag": "ABX9TyMMb95T1U+QOQKc4Q7xVs0U",
      "include_colab_link": true
    },
    "kernelspec": {
      "name": "python3",
      "display_name": "Python 3"
    },
    "language_info": {
      "name": "python"
    }
  },
  "cells": [
    {
      "cell_type": "markdown",
      "metadata": {
        "id": "view-in-github",
        "colab_type": "text"
      },
      "source": [
        "<a href=\"https://colab.research.google.com/github/MoonlightO2/AI-Chatbots/blob/main/AI_Chatbot_for_Moonlight_Chocolates_Company_(Simple).ipynb\" target=\"_parent\"><img src=\"https://colab.research.google.com/assets/colab-badge.svg\" alt=\"Open In Colab\"/></a>"
      ]
    },
    {
      "cell_type": "markdown",
      "source": [
        "# **AI Chatbot for Moonlight Chocolates Company**"
      ],
      "metadata": {
        "id": "oTd92bnUn5Dk"
      }
    },
    {
      "cell_type": "code",
      "source": [
        "import random"
      ],
      "metadata": {
        "id": "Nb0TOS-mn4Xl"
      },
      "execution_count": null,
      "outputs": []
    },
    {
      "cell_type": "code",
      "source": [
        "chocofile = '/content/drive/MyDrive/Projects/AI   ML/Moonlight Chocolates Questions.csv'"
      ],
      "metadata": {
        "id": "fUbJnEtSxM0p"
      },
      "execution_count": null,
      "outputs": []
    },
    {
      "cell_type": "code",
      "execution_count": null,
      "metadata": {
        "colab": {
          "base_uri": "https://localhost:8080/"
        },
        "id": "mvJrT1STny3V",
        "outputId": "9e5288b4-0368-42e2-f6c9-d64cd1475fc6"
      },
      "outputs": [
        {
          "output_type": "stream",
          "name": "stdout",
          "text": [
            "Welcome to the Chocolate Company Chatbot!\n",
            "How can I assist you today?\n",
            "You: Hi\n",
            "Bot: Hi there! How can I assist you today?\n",
            "You: Chocolate\n",
            "Bot: I'm sorry, I didn't quite understand that. How can I assist you with our chocolates?\n",
            "You: White\n",
            "Bot: I'm sorry, I didn't quite understand that. How can I assist you with our chocolates?\n",
            "You: White chocolate\n",
            "Bot: Pair our white chocolate with raspberry for a delightful combination.\n",
            "You: Milk chocolate\n",
            "Bot: Our creamy milk chocolate is perfect for a sweet indulgence.\n",
            "You: Dark chocolate\n",
            "Bot: Try our dark chocolate with sea salt for a unique twist.\n",
            "You: Thank you\n",
            "Bot: You're welcome! Enjoy your chocolates!\n",
            "You: quit\n",
            "Goodbye! Have a sweet day!\n"
          ]
        }
      ],
      "source": [
        "# Define responses for different types of user inputs\n",
        "greetings = [\"hello\", \"hi\", \"hey\", \"greetings\"]\n",
        "farewells = [\"bye\", \"goodbye\", \"see you later\", \"take care\"]\n",
        "thanks = [\"thanks\", \"thank you\", \"appreciate it\"]\n",
        "chocolate_types = [\"dark chocolate\", \"milk chocolate\", \"white chocolate\"]\n",
        "recommendations = {\n",
        "    \"dark chocolate\": [\"Our 70% dark chocolate is a fan favorite!\", \"Try our dark chocolate with sea salt for a unique twist.\"],\n",
        "    \"milk chocolate\": [\"Our creamy milk chocolate is perfect for a sweet indulgence.\", \"Try our milk chocolate with almonds for some added crunch.\"],\n",
        "    \"white chocolate\": [\"Indulge in our smooth and velvety white chocolate.\", \"Pair our white chocolate with raspberry for a delightful combination.\"]\n",
        "}\n",
        "\n",
        "# Define a function to generate responses\n",
        "def respond(user_input):\n",
        "    if user_input.lower() in greetings:\n",
        "        return random.choice([\"Hello! Welcome to our chocolate company.\", \"Hi there! How can I assist you today?\"])\n",
        "    elif user_input.lower() in farewells:\n",
        "        return random.choice([\"Goodbye! Have a sweet day!\", \"Take care!\"])\n",
        "    elif user_input.lower() in thanks:\n",
        "        return random.choice([\"You're welcome! Enjoy your chocolates!\", \"No problem at all!\"])\n",
        "    elif any(choco in user_input.lower() for choco in chocolate_types):\n",
        "        for choco in chocolate_types:\n",
        "            if choco in user_input.lower():\n",
        "                return random.choice(recommendations[choco])\n",
        "    else:\n",
        "        return \"I'm sorry, I didn't quite understand that. How can I assist you with our chocolates?\"\n",
        "\n",
        "# Main loop for chatting\n",
        "print(\"Welcome to the Chocolate Company Chatbot!\")\n",
        "print(\"How can I assist you today?\")\n",
        "\n",
        "while True:\n",
        "    user_input = input(\"You: \")\n",
        "    if user_input.lower() == \"quit\":\n",
        "        print(\"Goodbye! Have a sweet day!\")\n",
        "        break\n",
        "    response = respond(user_input)\n",
        "    print(\"Bot:\", response)"
      ]
    }
  ]
}