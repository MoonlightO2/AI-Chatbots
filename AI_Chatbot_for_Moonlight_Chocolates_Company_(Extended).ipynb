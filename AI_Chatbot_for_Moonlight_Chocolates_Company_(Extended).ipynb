{
  "nbformat": 4,
  "nbformat_minor": 0,
  "metadata": {
    "colab": {
      "provenance": [],
      "mount_file_id": "162x39QhKH_dbX8tiV3Jfaq4NrFCFYkGZ",
      "authorship_tag": "ABX9TyMitWF4KN3H5U2cvU+GqYqL",
      "include_colab_link": true
    },
    "kernelspec": {
      "name": "python3",
      "display_name": "Python 3"
    },
    "language_info": {
      "name": "python"
    }
  },
  "cells": [
    {
      "cell_type": "markdown",
      "metadata": {
        "id": "view-in-github",
        "colab_type": "text"
      },
      "source": [
        "<a href=\"https://colab.research.google.com/github/MoonlightO2/AI-Chatbots/blob/main/AI_Chatbot_for_Moonlight_Chocolates_Company_(Extended).ipynb\" target=\"_parent\"><img src=\"https://colab.research.google.com/assets/colab-badge.svg\" alt=\"Open In Colab\"/></a>"
      ]
    },
    {
      "cell_type": "markdown",
      "source": [
        "# **AI Chatbot for Moonlight Chocolates Company**"
      ],
      "metadata": {
        "id": "oTd92bnUn5Dk"
      }
    },
    {
      "cell_type": "code",
      "source": [
        "import pandas as pd\n",
        "from datetime import datetime\n",
        "from pathlib import Path"
      ],
      "metadata": {
        "id": "Nb0TOS-mn4Xl"
      },
      "execution_count": 14,
      "outputs": []
    },
    {
      "cell_type": "code",
      "source": [
        "chocofile = '/content/drive/MyDrive/Projects/AI   ML/Chocolate Q&A.csv'\n",
        "userfile = '/content/drive/MyDrive/Projects/AI   ML/User Q&A.csv'"
      ],
      "metadata": {
        "id": "fUbJnEtSxM0p"
      },
      "execution_count": 15,
      "outputs": []
    },
    {
      "cell_type": "code",
      "execution_count": 16,
      "metadata": {
        "id": "mvJrT1STny3V"
      },
      "outputs": [],
      "source": [
        "# Load chocolate Q&A dataset\n",
        "choco_df = pd.read_csv(chocofile)\n",
        "\n",
        "# Function to save user information and questions asked\n",
        "def save_user_info(date, time, name, age, location, question_numbers, new_questions):\n",
        "    user_info = {\n",
        "        'Date': date,\n",
        "        'Time': time,\n",
        "        'Name': name,\n",
        "        'Age': age,\n",
        "        'Location': location,\n",
        "        'Question numbers': question_numbers\n",
        "    }\n",
        "    for i, q in enumerate(new_questions, start=1):\n",
        "        user_info[f'New question {i}'] = q\n",
        "    user_df = pd.DataFrame([user_info])\n",
        "    userfile = Path('/content/drive/MyDrive/Projects/AI   ML/User Q&A.csv')\n",
        "    user_df.to_csv(userfile, mode='a', index=False, header=not userfile.exists())\n",
        "\n",
        "# Function to handle user interaction\n",
        "def chatbot():\n",
        "    print('Hello! How are you today? How can I help you with Moonlight Chocolates?')\n",
        "    name = input(\"What is your name? \")\n",
        "    age = input(\"How old are you? \")\n",
        "    location = input(\"Where are you located? \")\n",
        "    date = datetime.now().strftime('%Y-%m-%d')\n",
        "    time = datetime.now().strftime('%H:%M:%S')\n",
        "    print(\"Hi\", name, \"! Please choose from the following questions (Enter the question number) or type 'Other' to ask a different question:\")\n",
        "\n",
        "    while True:\n",
        "        print(\"\\nAvailable Questions:\")\n",
        "        for idx, question in choco_df['Question'].items():\n",
        "            print(f\"{idx + 1}. {question}\")\n",
        "        print(\"Or type 'Bye' to exit.\")\n",
        "\n",
        "        choice = input(\"Your choice: \").strip().lower()\n",
        "\n",
        "        if choice == 'bye':\n",
        "            print(\"Goodbye!\")\n",
        "            break\n",
        "\n",
        "        if choice.isdigit():\n",
        "            choice = int(choice)\n",
        "            if 1 <= choice <= len(choco_df):\n",
        "                question_numbers = [choice]\n",
        "                new_questions = []\n",
        "                answer = choco_df.iloc[choice - 1]['Answer']\n",
        "                print(\"Answer:\", answer)\n",
        "            else:\n",
        "                print(\"Invalid question number. Please try again.\")\n",
        "                continue\n",
        "        elif choice == 'other':\n",
        "            new_questions.append(input(\"\\nYour question?: \"))\n",
        "            question_numbers = []\n",
        "            answer = \"\\nThank you for your question! We'll get back to you soon.\"\n",
        "        else:\n",
        "            print(\"\\nInvalid choice. Please try again.\")\n",
        "            continue\n",
        "\n",
        "        save_user_info(date, time, name, age, location, question_numbers, new_questions)"
      ]
    },
    {
      "cell_type": "code",
      "source": [
        "# Start the chatbot\n",
        "if __name__ == \"__main__\":\n",
        "    chatbot()"
      ],
      "metadata": {
        "colab": {
          "base_uri": "https://localhost:8080/"
        },
        "id": "-Kbn9G3MCzsb",
        "outputId": "2b25587c-7598-45e8-e505-0cca22c3ab80"
      },
      "execution_count": 17,
      "outputs": [
        {
          "output_type": "stream",
          "name": "stdout",
          "text": [
            "Hello! How are you today? How can I help you with Moonlight Chocolates?\n",
            "What is your name? Diana\n",
            "How old are you? 20\n",
            "Where are you located? Dundee, UK\n",
            "Hi Diana ! Please choose from the following questions (Enter the question number) or type 'Other' to ask a different question:\n",
            "\n",
            "Available Questions:\n",
            "1. What is the origin of chocolate?\n",
            "2. How is chocolate made from cocoa beans?\n",
            "3. What are the different types of chocolate?\n",
            "4. What is the difference between milk chocolate and dark chocolate?\n",
            "5. How does white chocolate differ from other types of chocolate?\n",
            "6. What are some health benefits associated with consuming dark chocolate?\n",
            "7. What are cocoa solids and cocoa butter, and how are they used in chocolate production?\n",
            "8. What role does chocolate play in various cultures around the world?\n",
            "9. Can chocolate be used in savory dishes? If so, how?\n",
            "10. What is the significance of chocolate in various holidays and celebrations?\n",
            "11. How does the quality of chocolate vary between mass-produced and artisanal brands?\n",
            "12. What are some common misconceptions about chocolate?\n",
            "13. How does climate change affect cocoa production and the chocolate industry?\n",
            "14. Are there any ethical concerns associated with chocolate production, such as child labor and fair trade?\n",
            "15. What are some creative ways to incorporate chocolate into desserts?\n",
            "16. How does chocolate pair with different types of wine or spirits?\n",
            "17. What role does chocolate play in the history of confectionery?\n",
            "18. Can chocolate be used as a beauty product? If so, how?\n",
            "19. What are some famous chocolate brands around the world?\n",
            "20. How has the consumption of chocolate evolved over time, from ancient civilizations to the modern era?\n",
            "Or type 'Bye' to exit.\n",
            "Your choice: 5\n",
            "Answer: White chocolate does not contain cocoa solids but is made from cocoa butter, sugar, and milk solids, giving it a creamy texture and sweet flavor.\n",
            "\n",
            "Available Questions:\n",
            "1. What is the origin of chocolate?\n",
            "2. How is chocolate made from cocoa beans?\n",
            "3. What are the different types of chocolate?\n",
            "4. What is the difference between milk chocolate and dark chocolate?\n",
            "5. How does white chocolate differ from other types of chocolate?\n",
            "6. What are some health benefits associated with consuming dark chocolate?\n",
            "7. What are cocoa solids and cocoa butter, and how are they used in chocolate production?\n",
            "8. What role does chocolate play in various cultures around the world?\n",
            "9. Can chocolate be used in savory dishes? If so, how?\n",
            "10. What is the significance of chocolate in various holidays and celebrations?\n",
            "11. How does the quality of chocolate vary between mass-produced and artisanal brands?\n",
            "12. What are some common misconceptions about chocolate?\n",
            "13. How does climate change affect cocoa production and the chocolate industry?\n",
            "14. Are there any ethical concerns associated with chocolate production, such as child labor and fair trade?\n",
            "15. What are some creative ways to incorporate chocolate into desserts?\n",
            "16. How does chocolate pair with different types of wine or spirits?\n",
            "17. What role does chocolate play in the history of confectionery?\n",
            "18. Can chocolate be used as a beauty product? If so, how?\n",
            "19. What are some famous chocolate brands around the world?\n",
            "20. How has the consumption of chocolate evolved over time, from ancient civilizations to the modern era?\n",
            "Or type 'Bye' to exit.\n",
            "Your choice: 8\n",
            "Answer: Chocolate holds cultural significance in various societies, often associated with rituals, celebrations, and social gatherings\n",
            "\n",
            "Available Questions:\n",
            "1. What is the origin of chocolate?\n",
            "2. How is chocolate made from cocoa beans?\n",
            "3. What are the different types of chocolate?\n",
            "4. What is the difference between milk chocolate and dark chocolate?\n",
            "5. How does white chocolate differ from other types of chocolate?\n",
            "6. What are some health benefits associated with consuming dark chocolate?\n",
            "7. What are cocoa solids and cocoa butter, and how are they used in chocolate production?\n",
            "8. What role does chocolate play in various cultures around the world?\n",
            "9. Can chocolate be used in savory dishes? If so, how?\n",
            "10. What is the significance of chocolate in various holidays and celebrations?\n",
            "11. How does the quality of chocolate vary between mass-produced and artisanal brands?\n",
            "12. What are some common misconceptions about chocolate?\n",
            "13. How does climate change affect cocoa production and the chocolate industry?\n",
            "14. Are there any ethical concerns associated with chocolate production, such as child labor and fair trade?\n",
            "15. What are some creative ways to incorporate chocolate into desserts?\n",
            "16. How does chocolate pair with different types of wine or spirits?\n",
            "17. What role does chocolate play in the history of confectionery?\n",
            "18. Can chocolate be used as a beauty product? If so, how?\n",
            "19. What are some famous chocolate brands around the world?\n",
            "20. How has the consumption of chocolate evolved over time, from ancient civilizations to the modern era?\n",
            "Or type 'Bye' to exit.\n",
            "Your choice: Bye\n",
            "Goodbye!\n"
          ]
        }
      ]
    }
  ]
}